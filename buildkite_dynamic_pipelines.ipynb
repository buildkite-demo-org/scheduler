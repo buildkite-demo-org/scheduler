{
 "cells": [
  {
   "metadata": {},
   "cell_type": "markdown",
   "source": "## Buildkite Demo",
   "id": "e967e83d02051a64"
  },
  {
   "metadata": {},
   "cell_type": "markdown",
   "source": "### Prequesites",
   "id": "98ab2b14ee0342ec"
  },
  {
   "metadata": {
    "ExecuteTime": {
     "end_time": "2024-11-27T11:20:31.594178Z",
     "start_time": "2024-11-27T11:20:31.586784Z"
    }
   },
   "cell_type": "code",
   "source": [
    "import os\n",
    "import time\n",
    "\n",
    "PERSONAL_ACCESS_TOKEN: str = os.environ.get(\"BUILDKITE_ACCESS_TOKEN\")\n",
    "ORGANISATION: str = \"bmwgroup\""
   ],
   "id": "5f6473f3bf2314b9",
   "outputs": [],
   "execution_count": 62
  },
  {
   "metadata": {},
   "cell_type": "markdown",
   "source": "### Auth",
   "id": "6d18c15c72298571"
  },
  {
   "metadata": {
    "ExecuteTime": {
     "end_time": "2024-11-27T11:20:31.648134Z",
     "start_time": "2024-11-27T11:20:31.640947Z"
    }
   },
   "cell_type": "code",
   "source": [
    "from pybuildkite.buildkite import Buildkite, BuildState\n",
    "\n",
    "buildkite: Buildkite = Buildkite()\n",
    "buildkite.set_access_token(PERSONAL_ACCESS_TOKEN)"
   ],
   "id": "8b53d78a75232771",
   "outputs": [],
   "execution_count": 63
  },
  {
   "metadata": {},
   "cell_type": "markdown",
   "source": "### Organisation",
   "id": "d340f83c2bcdf546"
  },
  {
   "metadata": {
    "ExecuteTime": {
     "end_time": "2024-11-27T11:20:32.105818Z",
     "start_time": "2024-11-27T11:20:31.714001Z"
    }
   },
   "cell_type": "code",
   "source": [
    "from typing import Any, Dict\n",
    "\n",
    "organisation_infos: Dict[str, Any] = buildkite.organizations().get_org(ORGANISATION)\n",
    "print(organisation_infos)"
   ],
   "id": "bb38a26d9fd47fff",
   "outputs": [
    {
     "name": "stdout",
     "output_type": "stream",
     "text": [
      "{'id': '0192f6f2-2d4d-4127-acf6-877aeaf204a0', 'graphql_id': 'T3JnYW5pemF0aW9uLS0tMDE5MmY2ZjItMmQ0ZC00MTI3LWFjZjYtODc3YWVhZjIwNGEw', 'url': 'https://api.buildkite.com/v2/organizations/bmwgroup', 'web_url': 'https://buildkite.com/bmwgroup', 'name': 'bmwgroup', 'slug': 'bmwgroup', 'agents_url': 'https://api.buildkite.com/v2/organizations/bmwgroup/agents', 'emojis_url': 'https://api.buildkite.com/v2/organizations/bmwgroup/emojis', 'created_at': '2024-11-04T11:31:59.436Z', 'pipelines_url': 'https://api.buildkite.com/v2/organizations/bmwgroup/pipelines'}\n"
     ]
    }
   ],
   "execution_count": 64
  },
  {
   "metadata": {},
   "cell_type": "markdown",
   "source": "### Pipelines",
   "id": "1e592e0b0d8a8433"
  },
  {
   "metadata": {
    "ExecuteTime": {
     "end_time": "2024-11-27T11:20:32.125681Z",
     "start_time": "2024-11-27T11:20:32.117661Z"
    }
   },
   "cell_type": "code",
   "source": [
    "from multiprocessing.connection import Client\n",
    "from pybuildkite.pipelines import Pipelines\n",
    "\n",
    "pipelines: Pipelines = buildkite.pipelines()\n",
    "\n",
    "print(pipelines)\n",
    "\n",
    "pipeline_path: str = pipelines.path\n",
    "pipeline_client: Client = pipelines.client\n",
    "\n",
    "print(f\"Path: {pipeline_path}\\nClient: {pipeline_client}\")\n"
   ],
   "id": "ce17126761fbc32f",
   "outputs": [
    {
     "name": "stdout",
     "output_type": "stream",
     "text": [
      "<pybuildkite.pipelines.Pipelines object at 0x7dc6c1f2e090>\n",
      "Path: https://api.buildkite.com/v2/organizations/{}/pipelines/\n",
      "Client: <pybuildkite.client.Client object at 0x7dc6c1f2e2d0>\n"
     ]
    }
   ],
   "execution_count": 65
  },
  {
   "metadata": {},
   "cell_type": "markdown",
   "source": "### Build Info",
   "id": "ea62bc5ac12ccf09"
  },
  {
   "metadata": {
    "ExecuteTime": {
     "end_time": "2024-11-27T11:20:36.258325Z",
     "start_time": "2024-11-27T11:20:32.173604Z"
    }
   },
   "cell_type": "code",
   "source": [
    "from pybuildkite.builds import Builds\n",
    "\n",
    "pipeline: str = \"bazel-build\"\n",
    "\n",
    "state_running: BuildState = BuildState.RUNNING\n",
    "scheduled: BuildState = BuildState.SCHEDULED\n",
    "canceled: BuildState = BuildState.CANCELED\n",
    "failed: BuildState = BuildState.FAILED\n",
    "passed: BuildState = BuildState.PASSED\n",
    "\n",
    "running_or_scheduled: Builds = buildkite.builds().list_all_for_pipeline(ORGANISATION, pipeline, states=[state_running, scheduled])\n",
    "print(f\"Running or scheduled builds: {[build[\"message\"] for build in running_or_scheduled]}\")\n",
    "\n",
    "canceled_or_failed: Builds = buildkite.builds().list_all_for_pipeline(ORGANISATION, pipeline, states=[canceled, failed])\n",
    "print(f\"Canceled or failed builds: {[build[\"message\"] for build in canceled_or_failed]}\")\n",
    "\n",
    "passed_builds: Builds = buildkite.builds().list_all_for_pipeline(ORGANISATION, pipeline, states=[passed])\n",
    "print(f\"Canceled or passed builds: {[build[\"message\"] for build in passed_builds]}\")"
   ],
   "id": "d08b1aa08e78e4a2",
   "outputs": [
    {
     "name": "stdout",
     "output_type": "stream",
     "text": [
      "Running or scheduled builds: []\n",
      "Canceled or failed builds: ['Build via Python Client!', 'Make script executable', 'Update pipeline.yml', 'Add bazel build to pipeline', 'Run only bazel install', 'Add testengine pipeline configuration', 'Trying a dumb new file', 'Test multiple commands in single step', 'Test multiple commands in single step', 'Test multiple commands in single step', 'Test multiple commands in single step', 'fix bazel test', 'add bazel test //...', 'fix bazel build command', 'fix auto retry', 'fix auto retry', 'add auto retry', 'add depends on', \"Merge branch 'bazelbuild:master' into master\", 'sqash steps', 'add bazel build', 'test install bazelisk v2', 'test install bazelisk v2', 'Add bazelisk installation script', 'test-bazel-build-again', 'test-bazel-build', 'test-bazel-build']\n",
      "Canceled or passed builds: ['Build via Python Client!', 'Merge pull request #2 from buildkite-demo-org/simonrummert-patch-1\\n\\nRemove install step and test step', 'Remove install step', 'Remove install step', 'Update pipeline.yml', 'Test multiple steps per command', 'add bazel build', 'switch is to which']\n"
     ]
    }
   ],
   "execution_count": 66
  },
  {
   "metadata": {},
   "cell_type": "markdown",
   "source": "### Create Build",
   "id": "e7f13a0b4f09c530"
  },
  {
   "metadata": {
    "ExecuteTime": {
     "end_time": "2024-11-27T11:20:37.260232Z",
     "start_time": "2024-11-27T11:20:36.281475Z"
    }
   },
   "cell_type": "code",
   "source": [
    "pipeline: str = \"bazel-build\"\n",
    "\n",
    "build_info = buildkite.builds().create_build(ORGANISATION, pipeline, 'HEAD', 'master',\n",
    "                                             clean_checkout=True, message=\"Build via Python Client!\")\n",
    "\n",
    "print(f\"Build sent!\\nBuild Info:{build_info}\")\n",
    "CREATED_AT = build_info[\"created_at\"]"
   ],
   "id": "8d1c69e0087ce779",
   "outputs": [
    {
     "name": "stdout",
     "output_type": "stream",
     "text": [
      "Build sent!\n",
      "Build Info:{'id': '01936d5a-060a-4188-9bc6-72ac24d1b74e', 'graphql_id': 'QnVpbGQtLS0wMTkzNmQ1YS0wNjBhLTQxODgtOWJjNi03MmFjMjRkMWI3NGU=', 'url': 'https://api.buildkite.com/v2/organizations/bmwgroup/pipelines/bazel-build/builds/37', 'web_url': 'https://buildkite.com/bmwgroup/bazel-build/builds/37', 'number': 37, 'state': 'scheduled', 'cancel_reason': None, 'blocked': False, 'blocked_state': '', 'message': 'Build via Python Client!', 'commit': 'HEAD', 'branch': 'master', 'tag': None, 'env': {}, 'source': 'api', 'author': None, 'creator': {'id': '0193004b-dc06-4728-9a4f-d8e37ca04f09', 'graphql_id': 'VXNlci0tLTAxOTMwMDRiLWRjMDYtNDcyOC05YTRmLWQ4ZTM3Y2EwNGYwOQ==', 'name': 'Oliver Königsberger', 'email': 'oliver@koenigsberger.de', 'avatar_url': 'https://avatars.githubusercontent.com/u/102287892?v=4', 'created_at': '2024-11-06T07:06:31.813Z'}, 'created_at': '2024-11-27T11:20:36.637Z', 'scheduled_at': '2024-11-27T11:20:36.525Z', 'started_at': None, 'finished_at': None, 'meta_data': {}, 'pull_request': None, 'rebuilt_from': None, 'pipeline': {'id': '01935375-8e06-44bf-bf96-b27262909299', 'graphql_id': 'UGlwZWxpbmUtLS0wMTkzNTM3NS04ZTA2LTQ0YmYtYmY5Ni1iMjcyNjI5MDkyOTk=', 'url': 'https://api.buildkite.com/v2/organizations/bmwgroup/pipelines/bazel-build', 'web_url': 'https://buildkite.com/bmwgroup/bazel-build', 'name': 'Bazel Build', 'description': 'This is a bazel build of the bazel repository', 'slug': 'bazel-build', 'repository': 'https://github.com/buildkite-demo-org/bazel.git', 'cluster_id': 'adc7fdf8-aadc-4bd1-9dea-56476c2a8c88', 'pipeline_template_uuid': None, 'branch_configuration': '!testengine', 'default_branch': 'master', 'skip_queued_branch_builds': False, 'skip_queued_branch_builds_filter': None, 'cancel_running_branch_builds': False, 'cancel_running_branch_builds_filter': None, 'allow_rebuilds': True, 'provider': {'id': 'github', 'settings': {'build_branches': True, 'build_merge_group_checks_requested': False, 'build_pull_request_base_branch_changed': False, 'build_pull_request_forks': False, 'build_pull_request_labels_changed': False, 'build_pull_request_ready_for_review': False, 'build_pull_requests': True, 'build_tags': False, 'cancel_deleted_branch_builds': False, 'filter_enabled': False, 'prefix_pull_request_fork_branch_names': True, 'publish_blocked_as_pending': False, 'publish_commit_status_per_step': False, 'publish_commit_status': True, 'pull_request_branch_filter_enabled': False, 'separate_pull_request_statuses': False, 'skip_builds_for_existing_commits': False, 'skip_pull_request_builds_for_existing_commits': True, 'trigger_mode': 'code', 'use_step_key_as_commit_status': False, 'repository': 'buildkite-demo-org/bazel'}, 'webhook_url': 'https://webhook.buildkite.com/deliver/f8599417cfcc2345e23d5a813d3c9e4e20924f16cb4bd58916'}, 'builds_url': 'https://api.buildkite.com/v2/organizations/bmwgroup/pipelines/bazel-build/builds', 'badge_url': 'https://badge.buildkite.com/8c851cefff825d9ba33e97615784e7d1b28c63f9bca1fe2fef.svg', 'created_by': {'id': '0192f6f2-1bb4-4c2e-92cd-2cdaacd847ae', 'graphql_id': 'VXNlci0tLTAxOTJmNmYyLTFiYjQtNGMyZS05MmNkLTJjZGFhY2Q4NDdhZQ==', 'name': 'Simon Rummert', 'email': 'simon.rummert@bmw.de', 'avatar_url': 'https://www.gravatar.com/avatar/1c65dd5ad1208b1c87a6be16f12ed9c6', 'created_at': '2024-11-04T11:31:54.931Z'}, 'created_at': '2024-11-22T10:40:33.286Z', 'archived_at': None, 'env': None, 'scheduled_builds_count': 0, 'running_builds_count': 0, 'scheduled_jobs_count': 0, 'running_jobs_count': 2, 'waiting_jobs_count': 0, 'visibility': 'private', 'tags': None, 'emoji': None, 'color': None, 'configuration': ' steps:\\n - command: \"buildkite-agent pipeline upload\"\\n   label: \":pipeline:\"', 'steps': [{'type': 'script', 'name': ':pipeline:', 'command': 'buildkite-agent pipeline upload', 'artifact_paths': None, 'branch_configuration': None, 'env': {}, 'timeout_in_minutes': None, 'agent_query_rules': [], 'concurrency': None, 'parallelism': None}], 'cluster_url': 'https://api.buildkite.com/v2/organizations/bmwgroup/clusters/adc7fdf8-aadc-4bd1-9dea-56476c2a8c88'}, 'jobs': [{'id': '01936d5a-0618-4cd5-8dc4-1e3ce3b417b7', 'graphql_id': 'Sm9iLS0tMDE5MzZkNWEtMDYxOC00Y2Q1LThkYzQtMWUzY2UzYjQxN2I3', 'type': 'script', 'name': ':pipeline:', 'step_key': None, 'step': {'id': '01936d5a-0605-4b2d-98e8-f1b3f878c69e', 'signature': None}, 'priority': {'number': 0}, 'agent_query_rules': [], 'state': 'scheduled', 'build_url': 'https://api.buildkite.com/v2/organizations/bmwgroup/pipelines/bazel-build/builds/37', 'web_url': 'https://buildkite.com/bmwgroup/bazel-build/builds/37#01936d5a-0618-4cd5-8dc4-1e3ce3b417b7', 'log_url': 'https://api.buildkite.com/v2/organizations/bmwgroup/pipelines/bazel-build/builds/37/jobs/01936d5a-0618-4cd5-8dc4-1e3ce3b417b7/log', 'raw_log_url': 'https://api.buildkite.com/v2/organizations/bmwgroup/pipelines/bazel-build/builds/37/jobs/01936d5a-0618-4cd5-8dc4-1e3ce3b417b7/log.txt', 'artifacts_url': 'https://api.buildkite.com/v2/organizations/bmwgroup/pipelines/bazel-build/builds/37/jobs/01936d5a-0618-4cd5-8dc4-1e3ce3b417b7/artifacts', 'command': 'buildkite-agent pipeline upload', 'soft_failed': False, 'exit_status': None, 'artifact_paths': None, 'created_at': '2024-11-27T11:20:36.618Z', 'scheduled_at': '2024-11-27T11:20:36.618Z', 'runnable_at': '2024-11-27T11:20:36.918Z', 'started_at': None, 'finished_at': None, 'expired_at': None, 'retried': False, 'retried_in_job_id': None, 'retries_count': None, 'retry_source': None, 'retry_type': None, 'parallel_group_index': None, 'parallel_group_total': None, 'matrix': None, 'agent': None, 'cluster_id': 'adc7fdf8-aadc-4bd1-9dea-56476c2a8c88', 'cluster_url': 'https://api.buildkite.com/v2/organizations/bmwgroup/clusters/adc7fdf8-aadc-4bd1-9dea-56476c2a8c88', 'cluster_queue_id': '7ce90922-4c3a-4d62-b570-99c114720b07', 'cluster_queue_url': 'https://api.buildkite.com/v2/organizations/bmwgroup/clusters/adc7fdf8-aadc-4bd1-9dea-56476c2a8c88/queues/7ce90922-4c3a-4d62-b570-99c114720b07'}], 'cluster_id': 'adc7fdf8-aadc-4bd1-9dea-56476c2a8c88', 'cluster_url': 'https://api.buildkite.com/v2/organizations/bmwgroup/clusters/adc7fdf8-aadc-4bd1-9dea-56476c2a8c88'}\n"
     ]
    }
   ],
   "execution_count": 67
  },
  {
   "metadata": {},
   "cell_type": "markdown",
   "source": "### Build Response",
   "id": "66c46e73e32b40b1"
  },
  {
   "metadata": {
    "ExecuteTime": {
     "end_time": "2024-11-27T13:33:49.513914Z",
     "start_time": "2024-11-27T13:33:37.314388Z"
    }
   },
   "cell_type": "code",
   "source": [
    "from typing import Optional\n",
    "from pybuildkite.client import Response\n",
    "\n",
    "BUILD_RESULT: Optional[Any] = None\n",
    "\n",
    "while True:\n",
    "    builds_response: Response = buildkite.builds().list_all(page=1, with_pagination=True)\n",
    "\n",
    "    while builds_response.next_page:\n",
    "        print(\"Searching for build result\")\n",
    "        for build in builds_response.body:\n",
    "            if build[\"created_at\"] == CREATED_AT:\n",
    "                BUILD_RESULT = build\n",
    "                break\n",
    "\n",
    "        builds_response = buildkite.builds().list_all(page=builds_response.next_page, with_pagination=True)\n",
    "\n",
    "    if BUILD_RESULT is not None and BUILD_RESULT[\"state\"] is not \"SCHEDULED\":\n",
    "        break\n",
    "    else:\n",
    "        time.sleep(1)\n",
    "\n",
    "print(f\"Build: {BUILD_RESULT[\"message\"]} was {BUILD_RESULT[\"state\"]}\")\n",
    "print(BUILD_RESULT)\n"
   ],
   "id": "cabfaf56ae8bf9d9",
   "outputs": [
    {
     "name": "stderr",
     "output_type": "stream",
     "text": [
      "<>:18: SyntaxWarning: \"is not\" with 'str' literal. Did you mean \"!=\"?\n",
      "<>:18: SyntaxWarning: \"is not\" with 'str' literal. Did you mean \"!=\"?\n",
      "/tmp/ipykernel_1585164/3055293017.py:18: SyntaxWarning: \"is not\" with 'str' literal. Did you mean \"!=\"?\n",
      "  if BUILD_RESULT is not None and BUILD_RESULT[\"state\"] is not \"SCHEDULED\":\n"
     ]
    },
    {
     "name": "stdout",
     "output_type": "stream",
     "text": [
      "Searching for build result\n",
      "Searching for build result\n",
      "Build: Build via Python Client! was passed\n",
      "{'id': '01936d5a-060a-4188-9bc6-72ac24d1b74e', 'graphql_id': 'QnVpbGQtLS0wMTkzNmQ1YS0wNjBhLTQxODgtOWJjNi03MmFjMjRkMWI3NGU=', 'url': 'https://api.buildkite.com/v2/organizations/bmwgroup/pipelines/bazel-build/builds/37', 'web_url': 'https://buildkite.com/bmwgroup/bazel-build/builds/37', 'number': 37, 'state': 'passed', 'cancel_reason': None, 'blocked': False, 'blocked_state': '', 'message': 'Build via Python Client!', 'commit': '2aac26f48791596b6c1dae593ef5d22d48d1ea22', 'branch': 'master', 'tag': None, 'env': {}, 'source': 'api', 'author': None, 'creator': {'id': '0193004b-dc06-4728-9a4f-d8e37ca04f09', 'graphql_id': 'VXNlci0tLTAxOTMwMDRiLWRjMDYtNDcyOC05YTRmLWQ4ZTM3Y2EwNGYwOQ==', 'name': 'Oliver Königsberger', 'email': 'oliver@koenigsberger.de', 'avatar_url': 'https://avatars.githubusercontent.com/u/102287892?v=4', 'created_at': '2024-11-06T07:06:31.813Z'}, 'created_at': '2024-11-27T11:20:36.637Z', 'scheduled_at': '2024-11-27T11:20:36.525Z', 'started_at': '2024-11-27T11:21:30.373Z', 'finished_at': '2024-11-27T11:28:07.100Z', 'meta_data': {'buildkite:git:commit': 'commit 2aac26f48791596b6c1dae593ef5d22d48d1ea22\\nabbrev-commit 2aac26f487\\nAuthor: Simon Rummert <43201070+simonrummert@users.noreply.github.com>\\n\\n    Merge pull request #2 from buildkite-demo-org/simonrummert-patch-1\\n    \\n    Remove install step and test step'}, 'pull_request': None, 'rebuilt_from': None, 'pipeline': {'id': '01935375-8e06-44bf-bf96-b27262909299', 'graphql_id': 'UGlwZWxpbmUtLS0wMTkzNTM3NS04ZTA2LTQ0YmYtYmY5Ni1iMjcyNjI5MDkyOTk=', 'url': 'https://api.buildkite.com/v2/organizations/bmwgroup/pipelines/bazel-build', 'web_url': 'https://buildkite.com/bmwgroup/bazel-build', 'name': 'Bazel Build', 'description': 'This is a bazel build of the bazel repository', 'slug': 'bazel-build', 'repository': 'https://github.com/buildkite-demo-org/bazel.git', 'cluster_id': 'adc7fdf8-aadc-4bd1-9dea-56476c2a8c88', 'pipeline_template_uuid': None, 'branch_configuration': '!testengine', 'default_branch': 'master', 'skip_queued_branch_builds': False, 'skip_queued_branch_builds_filter': None, 'cancel_running_branch_builds': False, 'cancel_running_branch_builds_filter': None, 'allow_rebuilds': True, 'provider': {'id': 'github', 'settings': {'build_branches': True, 'build_merge_group_checks_requested': False, 'build_pull_request_base_branch_changed': False, 'build_pull_request_forks': False, 'build_pull_request_labels_changed': False, 'build_pull_request_ready_for_review': False, 'build_pull_requests': True, 'build_tags': False, 'cancel_deleted_branch_builds': False, 'filter_enabled': False, 'prefix_pull_request_fork_branch_names': True, 'publish_blocked_as_pending': False, 'publish_commit_status_per_step': False, 'publish_commit_status': True, 'pull_request_branch_filter_enabled': False, 'separate_pull_request_statuses': False, 'skip_builds_for_existing_commits': False, 'skip_pull_request_builds_for_existing_commits': True, 'trigger_mode': 'code', 'use_step_key_as_commit_status': False, 'repository': 'buildkite-demo-org/bazel'}, 'webhook_url': 'https://webhook.buildkite.com/deliver/f8599417cfcc2345e23d5a813d3c9e4e20924f16cb4bd58916'}, 'builds_url': 'https://api.buildkite.com/v2/organizations/bmwgroup/pipelines/bazel-build/builds', 'badge_url': 'https://badge.buildkite.com/8c851cefff825d9ba33e97615784e7d1b28c63f9bca1fe2fef.svg', 'created_by': {'id': '0192f6f2-1bb4-4c2e-92cd-2cdaacd847ae', 'graphql_id': 'VXNlci0tLTAxOTJmNmYyLTFiYjQtNGMyZS05MmNkLTJjZGFhY2Q4NDdhZQ==', 'name': 'Simon Rummert', 'email': 'simon.rummert@bmw.de', 'avatar_url': 'https://www.gravatar.com/avatar/1c65dd5ad1208b1c87a6be16f12ed9c6', 'created_at': '2024-11-04T11:31:54.931Z'}, 'created_at': '2024-11-22T10:40:33.286Z', 'archived_at': None, 'env': None, 'scheduled_builds_count': 0, 'running_builds_count': 0, 'scheduled_jobs_count': 0, 'running_jobs_count': 2, 'waiting_jobs_count': 0, 'visibility': 'private', 'tags': None, 'emoji': None, 'color': None, 'configuration': ' steps:\\n - command: \"buildkite-agent pipeline upload\"\\n   label: \":pipeline:\"', 'steps': [{'type': 'script', 'name': ':pipeline:', 'command': 'buildkite-agent pipeline upload', 'artifact_paths': None, 'branch_configuration': None, 'env': {}, 'timeout_in_minutes': None, 'agent_query_rules': [], 'concurrency': None, 'parallelism': None}], 'cluster_url': 'https://api.buildkite.com/v2/organizations/bmwgroup/clusters/adc7fdf8-aadc-4bd1-9dea-56476c2a8c88'}, 'jobs': [{'id': '01936d5a-0618-4cd5-8dc4-1e3ce3b417b7', 'graphql_id': 'Sm9iLS0tMDE5MzZkNWEtMDYxOC00Y2Q1LThkYzQtMWUzY2UzYjQxN2I3', 'type': 'script', 'name': ':pipeline:', 'step_key': None, 'step': {'id': '01936d5a-0605-4b2d-98e8-f1b3f878c69e', 'signature': None}, 'priority': {'number': 0}, 'agent_query_rules': [], 'state': 'passed', 'build_url': 'https://api.buildkite.com/v2/organizations/bmwgroup/pipelines/bazel-build/builds/37', 'web_url': 'https://buildkite.com/bmwgroup/bazel-build/builds/37#01936d5a-0618-4cd5-8dc4-1e3ce3b417b7', 'log_url': 'https://api.buildkite.com/v2/organizations/bmwgroup/pipelines/bazel-build/builds/37/jobs/01936d5a-0618-4cd5-8dc4-1e3ce3b417b7/log', 'raw_log_url': 'https://api.buildkite.com/v2/organizations/bmwgroup/pipelines/bazel-build/builds/37/jobs/01936d5a-0618-4cd5-8dc4-1e3ce3b417b7/log.txt', 'artifacts_url': 'https://api.buildkite.com/v2/organizations/bmwgroup/pipelines/bazel-build/builds/37/jobs/01936d5a-0618-4cd5-8dc4-1e3ce3b417b7/artifacts', 'command': 'buildkite-agent pipeline upload', 'soft_failed': False, 'exit_status': 0, 'artifact_paths': None, 'created_at': '2024-11-27T11:20:36.618Z', 'scheduled_at': '2024-11-27T11:20:36.618Z', 'runnable_at': '2024-11-27T11:20:36.918Z', 'started_at': '2024-11-27T11:21:30.373Z', 'finished_at': '2024-11-27T11:22:35.961Z', 'expired_at': None, 'retried': False, 'retried_in_job_id': None, 'retries_count': None, 'retry_source': None, 'retry_type': None, 'parallel_group_index': None, 'parallel_group_total': None, 'matrix': None, 'agent': {'id': '01936d5a-d3aa-4128-a1dd-1a595a41f8df', 'url': 'https://api.buildkite.com/v2/organizations/bmwgroup/agents/01936d5a-d3aa-4128-a1dd-1a595a41f8df', 'web_url': 'https://buildkite.com/organizations/bmwgroup/clusters/adc7fdf8-aadc-4bd1-9dea-56476c2a8c88/queues/7ce90922-4c3a-4d62-b570-99c114720b07/agents/01936d5a-d3aa-4128-a1dd-1a595a41f8df', 'name': 'buildkite-poc-i-04c021d099999014e-1', 'connection_state': 'disconnected', 'ip_address': '18.195.78.218', 'hostname': 'ip-10-0-2-15.eu-central-1.compute.internal', 'user_agent': 'buildkite-agent/3.84.0.9361 (linux; amd64)', 'version': '3.84.0', 'creator': None, 'created_at': '2024-11-27T11:21:29.258Z', 'job': None, 'last_job_finished_at': '2024-11-27T11:22:35.974Z', 'priority': 0, 'meta_data': ['queue=default', 'docker=25.0.5', 'stack=buildkite-poc', 'buildkite-aws-stack=v6.30.0', 'aws:account-id=600627335472', 'aws:ami-id=ami-0e895ca668cc2f5ff', 'aws:architecture=x86_64', 'aws:availability-zone=eu-central-1b', 'aws:instance-id=i-04c021d099999014e', 'aws:instance-type=c6a.4xlarge', 'aws:region=eu-central-1', 'aws:instance-life-cycle=spot'], 'cluster_url': 'https://api.buildkite.com/v2/organizations/bmwgroup/clusters/adc7fdf8-aadc-4bd1-9dea-56476c2a8c88', 'cluster_queue_url': 'https://api.buildkite.com/v2/organizations/bmwgroup/clusters/adc7fdf8-aadc-4bd1-9dea-56476c2a8c88/queues/7ce90922-4c3a-4d62-b570-99c114720b07'}, 'cluster_id': 'adc7fdf8-aadc-4bd1-9dea-56476c2a8c88', 'cluster_url': 'https://api.buildkite.com/v2/organizations/bmwgroup/clusters/adc7fdf8-aadc-4bd1-9dea-56476c2a8c88', 'cluster_queue_id': '7ce90922-4c3a-4d62-b570-99c114720b07', 'cluster_queue_url': 'https://api.buildkite.com/v2/organizations/bmwgroup/clusters/adc7fdf8-aadc-4bd1-9dea-56476c2a8c88/queues/7ce90922-4c3a-4d62-b570-99c114720b07'}, {'id': '01936d5b-c184-405f-ac4e-6da707e75a73', 'graphql_id': 'Sm9iLS0tMDE5MzZkNWItYzE4NC00MDVmLWFjNGUtNmRhNzA3ZTc1YTcz', 'type': 'script', 'name': None, 'step_key': 'bazel_build', 'step': {'id': '01936d5b-c01e-4411-8e28-862086054567', 'signature': None}, 'priority': {'number': 0}, 'agent_query_rules': [], 'state': 'passed', 'build_url': 'https://api.buildkite.com/v2/organizations/bmwgroup/pipelines/bazel-build/builds/37', 'web_url': 'https://buildkite.com/bmwgroup/bazel-build/builds/37#01936d5b-c184-405f-ac4e-6da707e75a73', 'log_url': 'https://api.buildkite.com/v2/organizations/bmwgroup/pipelines/bazel-build/builds/37/jobs/01936d5b-c184-405f-ac4e-6da707e75a73/log', 'raw_log_url': 'https://api.buildkite.com/v2/organizations/bmwgroup/pipelines/bazel-build/builds/37/jobs/01936d5b-c184-405f-ac4e-6da707e75a73/log.txt', 'artifacts_url': 'https://api.buildkite.com/v2/organizations/bmwgroup/pipelines/bazel-build/builds/37/jobs/01936d5b-c184-405f-ac4e-6da707e75a73/artifacts', 'command': 'bazel build //src:bazel-dev', 'soft_failed': False, 'exit_status': 0, 'artifact_paths': None, 'created_at': '2024-11-27T11:22:29.945Z', 'scheduled_at': '2024-11-27T11:20:36.618Z', 'runnable_at': '2024-11-27T11:22:30.376Z', 'started_at': '2024-11-27T11:22:33.015Z', 'finished_at': '2024-11-27T11:28:06.985Z', 'expired_at': None, 'retried': False, 'retried_in_job_id': None, 'retries_count': None, 'retry_source': None, 'retry_type': None, 'parallel_group_index': None, 'parallel_group_total': None, 'matrix': None, 'agent': {'id': '01936d5a-d700-4eab-af56-8e380d3f166d', 'url': 'https://api.buildkite.com/v2/organizations/bmwgroup/agents/01936d5a-d700-4eab-af56-8e380d3f166d', 'web_url': 'https://buildkite.com/organizations/bmwgroup/clusters/adc7fdf8-aadc-4bd1-9dea-56476c2a8c88/queues/7ce90922-4c3a-4d62-b570-99c114720b07/agents/01936d5a-d700-4eab-af56-8e380d3f166d', 'name': 'buildkite-poc-i-066d35580c22c3aa7-1', 'connection_state': 'disconnected', 'ip_address': '18.198.197.37', 'hostname': 'ip-10-0-1-43.eu-central-1.compute.internal', 'user_agent': 'buildkite-agent/3.84.0.9361 (linux; amd64)', 'version': '3.84.0', 'creator': None, 'created_at': '2024-11-27T11:21:30.112Z', 'job': None, 'last_job_finished_at': '2024-11-27T11:28:07.001Z', 'priority': 0, 'meta_data': ['queue=default', 'docker=25.0.5', 'stack=buildkite-poc', 'buildkite-aws-stack=v6.30.0', 'aws:instance-life-cycle=on-demand', 'aws:account-id=600627335472', 'aws:ami-id=ami-0e895ca668cc2f5ff', 'aws:architecture=x86_64', 'aws:availability-zone=eu-central-1a', 'aws:instance-id=i-066d35580c22c3aa7', 'aws:instance-type=c5a.4xlarge', 'aws:region=eu-central-1'], 'cluster_url': 'https://api.buildkite.com/v2/organizations/bmwgroup/clusters/adc7fdf8-aadc-4bd1-9dea-56476c2a8c88', 'cluster_queue_url': 'https://api.buildkite.com/v2/organizations/bmwgroup/clusters/adc7fdf8-aadc-4bd1-9dea-56476c2a8c88/queues/7ce90922-4c3a-4d62-b570-99c114720b07'}, 'cluster_id': 'adc7fdf8-aadc-4bd1-9dea-56476c2a8c88', 'cluster_url': 'https://api.buildkite.com/v2/organizations/bmwgroup/clusters/adc7fdf8-aadc-4bd1-9dea-56476c2a8c88', 'cluster_queue_id': '7ce90922-4c3a-4d62-b570-99c114720b07', 'cluster_queue_url': 'https://api.buildkite.com/v2/organizations/bmwgroup/clusters/adc7fdf8-aadc-4bd1-9dea-56476c2a8c88/queues/7ce90922-4c3a-4d62-b570-99c114720b07'}], 'cluster_id': 'adc7fdf8-aadc-4bd1-9dea-56476c2a8c88', 'cluster_url': 'https://api.buildkite.com/v2/organizations/bmwgroup/clusters/adc7fdf8-aadc-4bd1-9dea-56476c2a8c88'}\n"
     ]
    }
   ],
   "execution_count": 70
  },
  {
   "metadata": {
    "ExecuteTime": {
     "end_time": "2024-11-27T11:20:51.665799Z",
     "start_time": "2024-11-27T11:20:51.662876Z"
    }
   },
   "cell_type": "code",
   "source": "",
   "id": "f321f78da110e369",
   "outputs": [],
   "execution_count": null
  }
 ],
 "metadata": {
  "kernelspec": {
   "display_name": "Python 3",
   "language": "python",
   "name": "python3"
  },
  "language_info": {
   "codemirror_mode": {
    "name": "ipython",
    "version": 2
   },
   "file_extension": ".py",
   "mimetype": "text/x-python",
   "name": "python",
   "nbconvert_exporter": "python",
   "pygments_lexer": "ipython2",
   "version": "2.7.6"
  }
 },
 "nbformat": 4,
 "nbformat_minor": 5
}
