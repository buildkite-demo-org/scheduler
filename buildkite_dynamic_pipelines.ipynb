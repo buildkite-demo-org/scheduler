{
 "cells": [
  {
   "metadata": {},
   "cell_type": "markdown",
   "source": "## Buildkite Demo",
   "id": "e967e83d02051a64"
  },
  {
   "metadata": {},
   "cell_type": "markdown",
   "source": "### Prequesites",
   "id": "98ab2b14ee0342ec"
  },
  {
   "metadata": {
    "ExecuteTime": {
     "end_time": "2024-11-27T14:07:26.188709Z",
     "start_time": "2024-11-27T14:07:26.184136Z"
    }
   },
   "cell_type": "code",
   "source": [
    "import os\n",
    "import time\n",
    "from dotenv import load_dotenv\n",
    "\n",
    "load_dotenv()\n",
    "PERSONAL_ACCESS_TOKEN: str = os.environ.get(\"BUILDKITE_ACCESS_TOKEN\")\n",
    "ORGANISATION: str = \"bmwgroup\""
   ],
   "id": "5f6473f3bf2314b9",
   "outputs": [],
   "execution_count": 24
  },
  {
   "metadata": {},
   "cell_type": "markdown",
   "source": "### Auth",
   "id": "6d18c15c72298571"
  },
  {
   "metadata": {
    "ExecuteTime": {
     "end_time": "2024-11-27T14:07:26.238065Z",
     "start_time": "2024-11-27T14:07:26.233894Z"
    }
   },
   "cell_type": "code",
   "source": [
    "from pybuildkite.buildkite import Buildkite, BuildState\n",
    "\n",
    "buildkite: Buildkite = Buildkite()\n",
    "buildkite.set_access_token(PERSONAL_ACCESS_TOKEN)"
   ],
   "id": "8b53d78a75232771",
   "outputs": [],
   "execution_count": 25
  },
  {
   "metadata": {},
   "cell_type": "markdown",
   "source": "### Organisation",
   "id": "d340f83c2bcdf546"
  },
  {
   "metadata": {
    "ExecuteTime": {
     "end_time": "2024-11-27T14:07:26.731553Z",
     "start_time": "2024-11-27T14:07:26.284905Z"
    }
   },
   "cell_type": "code",
   "source": [
    "from typing import Any, Dict\n",
    "\n",
    "organisation_infos: Dict[str, Any] = buildkite.organizations().get_org(ORGANISATION)\n",
    "print(organisation_infos)"
   ],
   "id": "bb38a26d9fd47fff",
   "outputs": [
    {
     "name": "stdout",
     "output_type": "stream",
     "text": [
      "{'id': '0192f6f2-2d4d-4127-acf6-877aeaf204a0', 'graphql_id': 'T3JnYW5pemF0aW9uLS0tMDE5MmY2ZjItMmQ0ZC00MTI3LWFjZjYtODc3YWVhZjIwNGEw', 'url': 'https://api.buildkite.com/v2/organizations/bmwgroup', 'web_url': 'https://buildkite.com/bmwgroup', 'name': 'bmwgroup', 'slug': 'bmwgroup', 'agents_url': 'https://api.buildkite.com/v2/organizations/bmwgroup/agents', 'emojis_url': 'https://api.buildkite.com/v2/organizations/bmwgroup/emojis', 'created_at': '2024-11-04T11:31:59.436Z', 'pipelines_url': 'https://api.buildkite.com/v2/organizations/bmwgroup/pipelines'}\n"
     ]
    }
   ],
   "execution_count": 26
  },
  {
   "metadata": {},
   "cell_type": "markdown",
   "source": "### Pipelines",
   "id": "1e592e0b0d8a8433"
  },
  {
   "metadata": {
    "ExecuteTime": {
     "end_time": "2024-11-27T14:07:26.745955Z",
     "start_time": "2024-11-27T14:07:26.741674Z"
    }
   },
   "cell_type": "code",
   "source": [
    "from multiprocessing.connection import Client\n",
    "from pybuildkite.pipelines import Pipelines\n",
    "\n",
    "pipelines: Pipelines = buildkite.pipelines()\n",
    "\n",
    "print(pipelines)\n",
    "\n",
    "pipeline_path: str = pipelines.path\n",
    "pipeline_client: Client = pipelines.client\n",
    "\n",
    "print(f\"Path: {pipeline_path}\\nClient: {pipeline_client}\")\n"
   ],
   "id": "ce17126761fbc32f",
   "outputs": [
    {
     "name": "stdout",
     "output_type": "stream",
     "text": [
      "<pybuildkite.pipelines.Pipelines object at 0x715df1f18bf0>\n",
      "Path: https://api.buildkite.com/v2/organizations/{}/pipelines/\n",
      "Client: <pybuildkite.client.Client object at 0x715dfabf9e50>\n"
     ]
    }
   ],
   "execution_count": 27
  },
  {
   "metadata": {},
   "cell_type": "markdown",
   "source": "### Build Info",
   "id": "ea62bc5ac12ccf09"
  },
  {
   "metadata": {
    "ExecuteTime": {
     "end_time": "2024-11-27T14:07:31.251097Z",
     "start_time": "2024-11-27T14:07:26.791419Z"
    }
   },
   "cell_type": "code",
   "source": [
    "from pybuildkite.builds import Builds\n",
    "\n",
    "pipeline: str = \"bazel-build\"\n",
    "\n",
    "state_running: BuildState = BuildState.RUNNING\n",
    "scheduled: BuildState = BuildState.SCHEDULED\n",
    "canceled: BuildState = BuildState.CANCELED\n",
    "failed: BuildState = BuildState.FAILED\n",
    "passed: BuildState = BuildState.PASSED\n",
    "\n",
    "running_or_scheduled: Builds = buildkite.builds().list_all_for_pipeline(ORGANISATION, pipeline,\n",
    "                                                                        states=[state_running, scheduled])\n",
    "print(f\"Running or scheduled builds: {[build[\"message\"] for build in running_or_scheduled]}\")\n",
    "\n",
    "canceled_or_failed: Builds = buildkite.builds().list_all_for_pipeline(ORGANISATION, pipeline, states=[canceled, failed])\n",
    "print(f\"Canceled or failed builds: {[build[\"message\"] for build in canceled_or_failed]}\")\n",
    "\n",
    "passed_builds: Builds = buildkite.builds().list_all_for_pipeline(ORGANISATION, pipeline, states=[passed])\n",
    "print(f\"Canceled or passed builds: {[build[\"message\"] for build in passed_builds]}\")"
   ],
   "id": "d08b1aa08e78e4a2",
   "outputs": [
    {
     "name": "stdout",
     "output_type": "stream",
     "text": [
      "Running or scheduled builds: []\n",
      "Canceled or failed builds: ['Build via Python Client!', 'Add testengine pipeline configuration', 'Build via Python Client!', 'Make script executable', 'Update pipeline.yml', 'Add bazel build to pipeline', 'Run only bazel install', 'Add testengine pipeline configuration', 'Trying a dumb new file', 'Test multiple commands in single step', 'Test multiple commands in single step', 'Test multiple commands in single step', 'Test multiple commands in single step', 'fix bazel test', 'add bazel test //...', 'fix bazel build command', 'fix auto retry', 'fix auto retry', 'add auto retry', 'add depends on', \"Merge branch 'bazelbuild:master' into master\", 'sqash steps', 'add bazel build', 'test install bazelisk v2', 'test install bazelisk v2', 'Add bazelisk installation script', 'test-bazel-build-again', 'test-bazel-build', 'test-bazel-build']\n",
      "Canceled or passed builds: ['Build via Python Client!', 'Build via Python Client!', 'Build via Python Client!', 'Merge pull request #2 from buildkite-demo-org/simonrummert-patch-1\\n\\nRemove install step and test step', 'Remove install step', 'Remove install step', 'Update pipeline.yml', 'Test multiple steps per command', 'add bazel build', 'switch is to which']\n"
     ]
    }
   ],
   "execution_count": 28
  },
  {
   "metadata": {},
   "cell_type": "markdown",
   "source": "### Create Build",
   "id": "e7f13a0b4f09c530"
  },
  {
   "metadata": {
    "ExecuteTime": {
     "end_time": "2024-11-27T14:07:32.101636Z",
     "start_time": "2024-11-27T14:07:31.260804Z"
    }
   },
   "cell_type": "code",
   "source": [
    "pipeline: str = \"bazel-build\"\n",
    "\n",
    "build_info = buildkite.builds().create_build(ORGANISATION, pipeline, 'HEAD', 'master',\n",
    "                                             clean_checkout=True, message=\"Build via Python Client!\")\n",
    "\n",
    "print(f\"Build sent!\\nBuild Info:{build_info}\")\n",
    "CREATED_AT = build_info[\"created_at\"]"
   ],
   "id": "8d1c69e0087ce779",
   "outputs": [
    {
     "name": "stdout",
     "output_type": "stream",
     "text": [
      "Build sent!\n",
      "Build Info:{'id': '01936df2-d713-4c81-9dbe-9485e474655e', 'graphql_id': 'QnVpbGQtLS0wMTkzNmRmMi1kNzEzLTRjODEtOWRiZS05NDg1ZTQ3NDY1NWU=', 'url': 'https://api.buildkite.com/v2/organizations/bmwgroup/pipelines/bazel-build/builds/41', 'web_url': 'https://buildkite.com/bmwgroup/bazel-build/builds/41', 'number': 41, 'state': 'scheduled', 'cancel_reason': None, 'blocked': False, 'blocked_state': '', 'message': 'Build via Python Client!', 'commit': 'HEAD', 'branch': 'master', 'tag': None, 'env': {}, 'source': 'api', 'author': None, 'creator': {'id': '0193004b-dc06-4728-9a4f-d8e37ca04f09', 'graphql_id': 'VXNlci0tLTAxOTMwMDRiLWRjMDYtNDcyOC05YTRmLWQ4ZTM3Y2EwNGYwOQ==', 'name': 'Oliver Königsberger', 'email': 'oliver@koenigsberger.de', 'avatar_url': 'https://avatars.githubusercontent.com/u/102287892?v=4', 'created_at': '2024-11-06T07:06:31.813Z'}, 'created_at': '2024-11-27T14:07:31.624Z', 'scheduled_at': '2024-11-27T14:07:31.523Z', 'started_at': None, 'finished_at': None, 'meta_data': {}, 'pull_request': None, 'rebuilt_from': None, 'pipeline': {'id': '01935375-8e06-44bf-bf96-b27262909299', 'graphql_id': 'UGlwZWxpbmUtLS0wMTkzNTM3NS04ZTA2LTQ0YmYtYmY5Ni1iMjcyNjI5MDkyOTk=', 'url': 'https://api.buildkite.com/v2/organizations/bmwgroup/pipelines/bazel-build', 'web_url': 'https://buildkite.com/bmwgroup/bazel-build', 'name': 'Bazel Build', 'description': 'This is a bazel build of the bazel repository', 'slug': 'bazel-build', 'repository': 'https://github.com/buildkite-demo-org/bazel.git', 'cluster_id': 'adc7fdf8-aadc-4bd1-9dea-56476c2a8c88', 'pipeline_template_uuid': None, 'branch_configuration': '!testengine', 'default_branch': 'master', 'skip_queued_branch_builds': False, 'skip_queued_branch_builds_filter': None, 'cancel_running_branch_builds': False, 'cancel_running_branch_builds_filter': None, 'allow_rebuilds': True, 'provider': {'id': 'github', 'settings': {'build_branches': True, 'build_merge_group_checks_requested': False, 'build_pull_request_base_branch_changed': False, 'build_pull_request_forks': False, 'build_pull_request_labels_changed': False, 'build_pull_request_ready_for_review': False, 'build_pull_requests': True, 'build_tags': False, 'cancel_deleted_branch_builds': False, 'filter_enabled': False, 'prefix_pull_request_fork_branch_names': True, 'publish_blocked_as_pending': False, 'publish_commit_status_per_step': False, 'publish_commit_status': True, 'pull_request_branch_filter_enabled': False, 'separate_pull_request_statuses': False, 'skip_builds_for_existing_commits': False, 'skip_pull_request_builds_for_existing_commits': True, 'trigger_mode': 'code', 'use_step_key_as_commit_status': False, 'repository': 'buildkite-demo-org/bazel'}, 'webhook_url': 'https://webhook.buildkite.com/deliver/f8599417cfcc2345e23d5a813d3c9e4e20924f16cb4bd58916'}, 'builds_url': 'https://api.buildkite.com/v2/organizations/bmwgroup/pipelines/bazel-build/builds', 'badge_url': 'https://badge.buildkite.com/8c851cefff825d9ba33e97615784e7d1b28c63f9bca1fe2fef.svg', 'created_by': {'id': '0192f6f2-1bb4-4c2e-92cd-2cdaacd847ae', 'graphql_id': 'VXNlci0tLTAxOTJmNmYyLTFiYjQtNGMyZS05MmNkLTJjZGFhY2Q4NDdhZQ==', 'name': 'Simon Rummert', 'email': 'simon.rummert@bmw.de', 'avatar_url': 'https://www.gravatar.com/avatar/1c65dd5ad1208b1c87a6be16f12ed9c6', 'created_at': '2024-11-04T11:31:54.931Z'}, 'created_at': '2024-11-22T10:40:33.286Z', 'archived_at': None, 'env': None, 'scheduled_builds_count': 0, 'running_builds_count': 0, 'scheduled_jobs_count': 0, 'running_jobs_count': 1, 'waiting_jobs_count': 0, 'visibility': 'private', 'tags': None, 'emoji': None, 'color': None, 'configuration': ' steps:\\n - command: \"buildkite-agent pipeline upload\"\\n   label: \":pipeline:\"', 'steps': [{'type': 'script', 'name': ':pipeline:', 'command': 'buildkite-agent pipeline upload', 'artifact_paths': None, 'branch_configuration': None, 'env': {}, 'timeout_in_minutes': None, 'agent_query_rules': [], 'concurrency': None, 'parallelism': None}], 'cluster_url': 'https://api.buildkite.com/v2/organizations/bmwgroup/clusters/adc7fdf8-aadc-4bd1-9dea-56476c2a8c88'}, 'jobs': [{'id': '01936df2-d724-4b04-859d-0ae82e3f3634', 'graphql_id': 'Sm9iLS0tMDE5MzZkZjItZDcyNC00YjA0LTg1OWQtMGFlODJlM2YzNjM0', 'type': 'script', 'name': ':pipeline:', 'step_key': None, 'step': {'id': '01936df2-d70e-4499-81c1-7566a7f0c5a0', 'signature': None}, 'priority': {'number': 0}, 'agent_query_rules': [], 'state': 'scheduled', 'build_url': 'https://api.buildkite.com/v2/organizations/bmwgroup/pipelines/bazel-build/builds/41', 'web_url': 'https://buildkite.com/bmwgroup/bazel-build/builds/41#01936df2-d724-4b04-859d-0ae82e3f3634', 'log_url': 'https://api.buildkite.com/v2/organizations/bmwgroup/pipelines/bazel-build/builds/41/jobs/01936df2-d724-4b04-859d-0ae82e3f3634/log', 'raw_log_url': 'https://api.buildkite.com/v2/organizations/bmwgroup/pipelines/bazel-build/builds/41/jobs/01936df2-d724-4b04-859d-0ae82e3f3634/log.txt', 'artifacts_url': 'https://api.buildkite.com/v2/organizations/bmwgroup/pipelines/bazel-build/builds/41/jobs/01936df2-d724-4b04-859d-0ae82e3f3634/artifacts', 'command': 'buildkite-agent pipeline upload', 'soft_failed': False, 'exit_status': None, 'artifact_paths': None, 'created_at': '2024-11-27T14:07:31.603Z', 'scheduled_at': '2024-11-27T14:07:31.603Z', 'runnable_at': '2024-11-27T14:07:31.804Z', 'started_at': None, 'finished_at': None, 'expired_at': None, 'retried': False, 'retried_in_job_id': None, 'retries_count': None, 'retry_source': None, 'retry_type': None, 'parallel_group_index': None, 'parallel_group_total': None, 'matrix': None, 'agent': None, 'cluster_id': 'adc7fdf8-aadc-4bd1-9dea-56476c2a8c88', 'cluster_url': 'https://api.buildkite.com/v2/organizations/bmwgroup/clusters/adc7fdf8-aadc-4bd1-9dea-56476c2a8c88', 'cluster_queue_id': '7ce90922-4c3a-4d62-b570-99c114720b07', 'cluster_queue_url': 'https://api.buildkite.com/v2/organizations/bmwgroup/clusters/adc7fdf8-aadc-4bd1-9dea-56476c2a8c88/queues/7ce90922-4c3a-4d62-b570-99c114720b07'}], 'cluster_id': 'adc7fdf8-aadc-4bd1-9dea-56476c2a8c88', 'cluster_url': 'https://api.buildkite.com/v2/organizations/bmwgroup/clusters/adc7fdf8-aadc-4bd1-9dea-56476c2a8c88'}\n"
     ]
    }
   ],
   "execution_count": 29
  },
  {
   "metadata": {},
   "cell_type": "markdown",
   "source": "### Build Response",
   "id": "66c46e73e32b40b1"
  },
  {
   "metadata": {
    "ExecuteTime": {
     "end_time": "2024-11-27T14:08:15.859471Z",
     "start_time": "2024-11-27T14:07:32.119307Z"
    }
   },
   "cell_type": "code",
   "source": [
    "from typing import Optional\n",
    "from pybuildkite.client import Response\n",
    "\n",
    "BUILD_RESULT: Optional[Any] = None\n",
    "\n",
    "while True:\n",
    "    builds_response: Response = buildkite.builds().list_all(page=1, with_pagination=True)\n",
    "\n",
    "    while builds_response.next_page:\n",
    "        print(\"Searching for build result\")\n",
    "        for build in builds_response.body:\n",
    "            if build[\"created_at\"] == CREATED_AT:\n",
    "                BUILD_RESULT = build\n",
    "                break\n",
    "\n",
    "        builds_response = buildkite.builds().list_all(page=builds_response.next_page, with_pagination=True)\n",
    "\n",
    "    if BUILD_RESULT is not None and BUILD_RESULT[\"state\"] not in [\"scheduled\", \"running\"]:\n",
    "        break\n",
    "    else:\n",
    "        time.sleep(1)\n",
    "\n",
    "print(f\"Buildresult of \\\"{BUILD_RESULT[\"message\"]}\\\" is \\\"{BUILD_RESULT[\"state\"]}\\\"\")\n",
    "print(BUILD_RESULT)\n"
   ],
   "id": "cabfaf56ae8bf9d9",
   "outputs": [
    {
     "name": "stdout",
     "output_type": "stream",
     "text": [
      "Searching for build result\n",
      "Searching for build result\n",
      "Searching for build result\n",
      "Searching for build result\n",
      "Searching for build result\n",
      "Searching for build result\n",
      "Buildresult of \"Build via Python Client!\" was \"passed\"\n",
      "{'id': '01936df2-d713-4c81-9dbe-9485e474655e', 'graphql_id': 'QnVpbGQtLS0wMTkzNmRmMi1kNzEzLTRjODEtOWRiZS05NDg1ZTQ3NDY1NWU=', 'url': 'https://api.buildkite.com/v2/organizations/bmwgroup/pipelines/bazel-build/builds/41', 'web_url': 'https://buildkite.com/bmwgroup/bazel-build/builds/41', 'number': 41, 'state': 'passed', 'cancel_reason': None, 'blocked': False, 'blocked_state': '', 'message': 'Build via Python Client!', 'commit': '2aac26f48791596b6c1dae593ef5d22d48d1ea22', 'branch': 'master', 'tag': None, 'env': {}, 'source': 'api', 'author': None, 'creator': {'id': '0193004b-dc06-4728-9a4f-d8e37ca04f09', 'graphql_id': 'VXNlci0tLTAxOTMwMDRiLWRjMDYtNDcyOC05YTRmLWQ4ZTM3Y2EwNGYwOQ==', 'name': 'Oliver Königsberger', 'email': 'oliver@koenigsberger.de', 'avatar_url': 'https://avatars.githubusercontent.com/u/102287892?v=4', 'created_at': '2024-11-06T07:06:31.813Z'}, 'created_at': '2024-11-27T14:07:31.624Z', 'scheduled_at': '2024-11-27T14:07:31.523Z', 'started_at': '2024-11-27T14:07:33.352Z', 'finished_at': '2024-11-27T14:07:51.748Z', 'meta_data': {'buildkite:git:commit': 'commit 2aac26f48791596b6c1dae593ef5d22d48d1ea22\\nabbrev-commit 2aac26f487\\nAuthor: Simon Rummert <43201070+simonrummert@users.noreply.github.com>\\n\\n    Merge pull request #2 from buildkite-demo-org/simonrummert-patch-1\\n    \\n    Remove install step and test step'}, 'pull_request': None, 'rebuilt_from': None, 'pipeline': {'id': '01935375-8e06-44bf-bf96-b27262909299', 'graphql_id': 'UGlwZWxpbmUtLS0wMTkzNTM3NS04ZTA2LTQ0YmYtYmY5Ni1iMjcyNjI5MDkyOTk=', 'url': 'https://api.buildkite.com/v2/organizations/bmwgroup/pipelines/bazel-build', 'web_url': 'https://buildkite.com/bmwgroup/bazel-build', 'name': 'Bazel Build', 'description': 'This is a bazel build of the bazel repository', 'slug': 'bazel-build', 'repository': 'https://github.com/buildkite-demo-org/bazel.git', 'cluster_id': 'adc7fdf8-aadc-4bd1-9dea-56476c2a8c88', 'pipeline_template_uuid': None, 'branch_configuration': '!testengine', 'default_branch': 'master', 'skip_queued_branch_builds': False, 'skip_queued_branch_builds_filter': None, 'cancel_running_branch_builds': False, 'cancel_running_branch_builds_filter': None, 'allow_rebuilds': True, 'provider': {'id': 'github', 'settings': {'build_branches': True, 'build_merge_group_checks_requested': False, 'build_pull_request_base_branch_changed': False, 'build_pull_request_forks': False, 'build_pull_request_labels_changed': False, 'build_pull_request_ready_for_review': False, 'build_pull_requests': True, 'build_tags': False, 'cancel_deleted_branch_builds': False, 'filter_enabled': False, 'prefix_pull_request_fork_branch_names': True, 'publish_blocked_as_pending': False, 'publish_commit_status_per_step': False, 'publish_commit_status': True, 'pull_request_branch_filter_enabled': False, 'separate_pull_request_statuses': False, 'skip_builds_for_existing_commits': False, 'skip_pull_request_builds_for_existing_commits': True, 'trigger_mode': 'code', 'use_step_key_as_commit_status': False, 'repository': 'buildkite-demo-org/bazel'}, 'webhook_url': 'https://webhook.buildkite.com/deliver/f8599417cfcc2345e23d5a813d3c9e4e20924f16cb4bd58916'}, 'builds_url': 'https://api.buildkite.com/v2/organizations/bmwgroup/pipelines/bazel-build/builds', 'badge_url': 'https://badge.buildkite.com/8c851cefff825d9ba33e97615784e7d1b28c63f9bca1fe2fef.svg', 'created_by': {'id': '0192f6f2-1bb4-4c2e-92cd-2cdaacd847ae', 'graphql_id': 'VXNlci0tLTAxOTJmNmYyLTFiYjQtNGMyZS05MmNkLTJjZGFhY2Q4NDdhZQ==', 'name': 'Simon Rummert', 'email': 'simon.rummert@bmw.de', 'avatar_url': 'https://www.gravatar.com/avatar/1c65dd5ad1208b1c87a6be16f12ed9c6', 'created_at': '2024-11-04T11:31:54.931Z'}, 'created_at': '2024-11-22T10:40:33.286Z', 'archived_at': None, 'env': None, 'scheduled_builds_count': 0, 'running_builds_count': 0, 'scheduled_jobs_count': 0, 'running_jobs_count': 1, 'waiting_jobs_count': 0, 'visibility': 'private', 'tags': None, 'emoji': None, 'color': None, 'configuration': ' steps:\\n - command: \"buildkite-agent pipeline upload\"\\n   label: \":pipeline:\"', 'steps': [{'type': 'script', 'name': ':pipeline:', 'command': 'buildkite-agent pipeline upload', 'artifact_paths': None, 'branch_configuration': None, 'env': {}, 'timeout_in_minutes': None, 'agent_query_rules': [], 'concurrency': None, 'parallelism': None}], 'cluster_url': 'https://api.buildkite.com/v2/organizations/bmwgroup/clusters/adc7fdf8-aadc-4bd1-9dea-56476c2a8c88'}, 'jobs': [{'id': '01936df2-d724-4b04-859d-0ae82e3f3634', 'graphql_id': 'Sm9iLS0tMDE5MzZkZjItZDcyNC00YjA0LTg1OWQtMGFlODJlM2YzNjM0', 'type': 'script', 'name': ':pipeline:', 'step_key': None, 'step': {'id': '01936df2-d70e-4499-81c1-7566a7f0c5a0', 'signature': None}, 'priority': {'number': 0}, 'agent_query_rules': [], 'state': 'passed', 'build_url': 'https://api.buildkite.com/v2/organizations/bmwgroup/pipelines/bazel-build/builds/41', 'web_url': 'https://buildkite.com/bmwgroup/bazel-build/builds/41#01936df2-d724-4b04-859d-0ae82e3f3634', 'log_url': 'https://api.buildkite.com/v2/organizations/bmwgroup/pipelines/bazel-build/builds/41/jobs/01936df2-d724-4b04-859d-0ae82e3f3634/log', 'raw_log_url': 'https://api.buildkite.com/v2/organizations/bmwgroup/pipelines/bazel-build/builds/41/jobs/01936df2-d724-4b04-859d-0ae82e3f3634/log.txt', 'artifacts_url': 'https://api.buildkite.com/v2/organizations/bmwgroup/pipelines/bazel-build/builds/41/jobs/01936df2-d724-4b04-859d-0ae82e3f3634/artifacts', 'command': 'buildkite-agent pipeline upload', 'soft_failed': False, 'exit_status': 0, 'artifact_paths': None, 'created_at': '2024-11-27T14:07:31.603Z', 'scheduled_at': '2024-11-27T14:07:31.603Z', 'runnable_at': '2024-11-27T14:07:31.804Z', 'started_at': '2024-11-27T14:07:33.352Z', 'finished_at': '2024-11-27T14:07:38.491Z', 'expired_at': None, 'retried': False, 'retried_in_job_id': None, 'retries_count': None, 'retry_source': None, 'retry_type': None, 'parallel_group_index': None, 'parallel_group_total': None, 'matrix': None, 'agent': {'id': '01936dea-f300-450b-9eb9-ae73d533db65', 'url': 'https://api.buildkite.com/v2/organizations/bmwgroup/agents/01936dea-f300-450b-9eb9-ae73d533db65', 'web_url': 'https://buildkite.com/organizations/bmwgroup/clusters/adc7fdf8-aadc-4bd1-9dea-56476c2a8c88/queues/7ce90922-4c3a-4d62-b570-99c114720b07/agents/01936dea-f300-450b-9eb9-ae73d533db65', 'name': 'buildkite-poc-i-0e25072610a9aa73e-1', 'connection_state': 'connected', 'ip_address': '3.123.24.194', 'hostname': 'ip-10-0-1-141.eu-central-1.compute.internal', 'user_agent': 'buildkite-agent/3.84.0.9361 (linux; amd64)', 'version': '3.84.0', 'creator': None, 'created_at': '2024-11-27T13:58:54.464Z', 'job': None, 'last_job_finished_at': '2024-11-27T14:07:51.549Z', 'priority': 0, 'meta_data': ['queue=default', 'docker=25.0.5', 'stack=buildkite-poc', 'buildkite-aws-stack=v6.30.0', 'aws:architecture=x86_64', 'aws:availability-zone=eu-central-1a', 'aws:instance-id=i-0e25072610a9aa73e', 'aws:instance-type=c5a.4xlarge', 'aws:region=eu-central-1', 'aws:instance-life-cycle=on-demand', 'aws:account-id=600627335472', 'aws:ami-id=ami-0e895ca668cc2f5ff'], 'cluster_url': 'https://api.buildkite.com/v2/organizations/bmwgroup/clusters/adc7fdf8-aadc-4bd1-9dea-56476c2a8c88', 'cluster_queue_url': 'https://api.buildkite.com/v2/organizations/bmwgroup/clusters/adc7fdf8-aadc-4bd1-9dea-56476c2a8c88/queues/7ce90922-4c3a-4d62-b570-99c114720b07'}, 'cluster_id': 'adc7fdf8-aadc-4bd1-9dea-56476c2a8c88', 'cluster_url': 'https://api.buildkite.com/v2/organizations/bmwgroup/clusters/adc7fdf8-aadc-4bd1-9dea-56476c2a8c88', 'cluster_queue_id': '7ce90922-4c3a-4d62-b570-99c114720b07', 'cluster_queue_url': 'https://api.buildkite.com/v2/organizations/bmwgroup/clusters/adc7fdf8-aadc-4bd1-9dea-56476c2a8c88/queues/7ce90922-4c3a-4d62-b570-99c114720b07'}, {'id': '01936df2-ecb6-48ca-aef4-75b551583076', 'graphql_id': 'Sm9iLS0tMDE5MzZkZjItZWNiNi00OGNhLWFlZjQtNzViNTUxNTgzMDc2', 'type': 'script', 'name': None, 'step_key': 'bazel_build', 'step': {'id': '01936df2-ec37-4d14-90a1-6782d2067632', 'signature': None}, 'priority': {'number': 0}, 'agent_query_rules': [], 'state': 'passed', 'build_url': 'https://api.buildkite.com/v2/organizations/bmwgroup/pipelines/bazel-build/builds/41', 'web_url': 'https://buildkite.com/bmwgroup/bazel-build/builds/41#01936df2-ecb6-48ca-aef4-75b551583076', 'log_url': 'https://api.buildkite.com/v2/organizations/bmwgroup/pipelines/bazel-build/builds/41/jobs/01936df2-ecb6-48ca-aef4-75b551583076/log', 'raw_log_url': 'https://api.buildkite.com/v2/organizations/bmwgroup/pipelines/bazel-build/builds/41/jobs/01936df2-ecb6-48ca-aef4-75b551583076/log.txt', 'artifacts_url': 'https://api.buildkite.com/v2/organizations/bmwgroup/pipelines/bazel-build/builds/41/jobs/01936df2-ecb6-48ca-aef4-75b551583076/artifacts', 'command': 'bazel build //src:bazel-dev', 'soft_failed': False, 'exit_status': 0, 'artifact_paths': None, 'created_at': '2024-11-27T14:07:37.090Z', 'scheduled_at': '2024-11-27T14:07:31.603Z', 'runnable_at': '2024-11-27T14:07:37.212Z', 'started_at': '2024-11-27T14:07:40.121Z', 'finished_at': '2024-11-27T14:07:51.527Z', 'expired_at': None, 'retried': False, 'retried_in_job_id': None, 'retries_count': None, 'retry_source': None, 'retry_type': None, 'parallel_group_index': None, 'parallel_group_total': None, 'matrix': None, 'agent': {'id': '01936dea-f300-450b-9eb9-ae73d533db65', 'url': 'https://api.buildkite.com/v2/organizations/bmwgroup/agents/01936dea-f300-450b-9eb9-ae73d533db65', 'web_url': 'https://buildkite.com/organizations/bmwgroup/clusters/adc7fdf8-aadc-4bd1-9dea-56476c2a8c88/queues/7ce90922-4c3a-4d62-b570-99c114720b07/agents/01936dea-f300-450b-9eb9-ae73d533db65', 'name': 'buildkite-poc-i-0e25072610a9aa73e-1', 'connection_state': 'connected', 'ip_address': '3.123.24.194', 'hostname': 'ip-10-0-1-141.eu-central-1.compute.internal', 'user_agent': 'buildkite-agent/3.84.0.9361 (linux; amd64)', 'version': '3.84.0', 'creator': None, 'created_at': '2024-11-27T13:58:54.464Z', 'job': None, 'last_job_finished_at': '2024-11-27T14:07:51.549Z', 'priority': 0, 'meta_data': ['queue=default', 'docker=25.0.5', 'stack=buildkite-poc', 'buildkite-aws-stack=v6.30.0', 'aws:architecture=x86_64', 'aws:availability-zone=eu-central-1a', 'aws:instance-id=i-0e25072610a9aa73e', 'aws:instance-type=c5a.4xlarge', 'aws:region=eu-central-1', 'aws:instance-life-cycle=on-demand', 'aws:account-id=600627335472', 'aws:ami-id=ami-0e895ca668cc2f5ff'], 'cluster_url': 'https://api.buildkite.com/v2/organizations/bmwgroup/clusters/adc7fdf8-aadc-4bd1-9dea-56476c2a8c88', 'cluster_queue_url': 'https://api.buildkite.com/v2/organizations/bmwgroup/clusters/adc7fdf8-aadc-4bd1-9dea-56476c2a8c88/queues/7ce90922-4c3a-4d62-b570-99c114720b07'}, 'cluster_id': 'adc7fdf8-aadc-4bd1-9dea-56476c2a8c88', 'cluster_url': 'https://api.buildkite.com/v2/organizations/bmwgroup/clusters/adc7fdf8-aadc-4bd1-9dea-56476c2a8c88', 'cluster_queue_id': '7ce90922-4c3a-4d62-b570-99c114720b07', 'cluster_queue_url': 'https://api.buildkite.com/v2/organizations/bmwgroup/clusters/adc7fdf8-aadc-4bd1-9dea-56476c2a8c88/queues/7ce90922-4c3a-4d62-b570-99c114720b07'}], 'cluster_id': 'adc7fdf8-aadc-4bd1-9dea-56476c2a8c88', 'cluster_url': 'https://api.buildkite.com/v2/organizations/bmwgroup/clusters/adc7fdf8-aadc-4bd1-9dea-56476c2a8c88'}\n"
     ]
    }
   ],
   "execution_count": 30
  },
  {
   "metadata": {
    "ExecuteTime": {
     "end_time": "2024-11-27T14:27:49.279658Z",
     "start_time": "2024-11-27T14:27:49.275531Z"
    }
   },
   "cell_type": "code",
   "source": [
    "import json\n",
    "from pathlib import Path\n",
    "\n",
    "with open(Path.cwd().joinpath(\"current_build_result.json\"), \"w\") as file:\n",
    "    json.dump(BUILD_RESULT, file, indent=2)\n"
   ],
   "id": "f321f78da110e369",
   "outputs": [],
   "execution_count": 38
  }
 ],
 "metadata": {
  "kernelspec": {
   "display_name": "Python 3",
   "language": "python",
   "name": "python3"
  },
  "language_info": {
   "codemirror_mode": {
    "name": "ipython",
    "version": 2
   },
   "file_extension": ".py",
   "mimetype": "text/x-python",
   "name": "python",
   "nbconvert_exporter": "python",
   "pygments_lexer": "ipython2",
   "version": "2.7.6"
  }
 },
 "nbformat": 4,
 "nbformat_minor": 5
}
